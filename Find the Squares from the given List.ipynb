{
 "cells": [
  {
   "cell_type": "markdown",
   "id": "8e4b289b",
   "metadata": {},
   "source": [
    "###### `Write a Python program to square the elements of a list using map() function.`\n",
    "\n",
    "\n",
    "\n",
    "Sample List: [4, 5, 2, 9]\n",
    "\n",
    "Square the elements of the list:\n",
    "\n",
    "[16, 25, 4, 81]\n",
    "\n",
    "\n"
   ]
  },
  {
   "cell_type": "code",
   "execution_count": 1,
   "id": "e536fd04",
   "metadata": {},
   "outputs": [
    {
     "name": "stdout",
     "output_type": "stream",
     "text": [
      "enter no of elements: 4\n",
      "enter the value: 4\n",
      "enter the value: 5\n",
      "enter the value: 2\n",
      "enter the value: 9\n",
      "[16, 25, 4, 81]\n"
     ]
    }
   ],
   "source": [
    "n = int(input(\"enter no of elements: \"))\n",
    "list1 = [int(input(\"enter the value: \")) for i in range(n)]\n",
    "sqrd_list = list(map(lambda a: a ** 2, list1))\n",
    "print(sqrd_list)"
   ]
  },
  {
   "cell_type": "code",
   "execution_count": null,
   "id": "a8969195",
   "metadata": {},
   "outputs": [],
   "source": []
  }
 ],
 "metadata": {
  "kernelspec": {
   "display_name": "Python 3 (ipykernel)",
   "language": "python",
   "name": "python3"
  },
  "language_info": {
   "codemirror_mode": {
    "name": "ipython",
    "version": 3
   },
   "file_extension": ".py",
   "mimetype": "text/x-python",
   "name": "python",
   "nbconvert_exporter": "python",
   "pygments_lexer": "ipython3",
   "version": "3.9.7"
  }
 },
 "nbformat": 4,
 "nbformat_minor": 5
}
