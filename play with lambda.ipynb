{
 "cells": [
  {
   "cell_type": "markdown",
   "id": "3cf17d21",
   "metadata": {},
   "source": [
    "#### Write a Python program to create a lambda function that adds 25 to a given number passed in as an argument.\n",
    "\n",
    "\n",
    "\n",
    "sample input: 10\n",
    "\n",
    "sample output: 35"
   ]
  },
  {
   "cell_type": "code",
   "execution_count": 3,
   "id": "ca7ee506",
   "metadata": {},
   "outputs": [
    {
     "name": "stdout",
     "output_type": "stream",
     "text": [
      "6\n",
      "31\n"
     ]
    }
   ],
   "source": [
    "num = int(input())\n",
    "t = (lambda x : num + 25)(num)\n",
    "print(t)"
   ]
  }
 ],
 "metadata": {
  "kernelspec": {
   "display_name": "Python 3 (ipykernel)",
   "language": "python",
   "name": "python3"
  },
  "language_info": {
   "codemirror_mode": {
    "name": "ipython",
    "version": 3
   },
   "file_extension": ".py",
   "mimetype": "text/x-python",
   "name": "python",
   "nbconvert_exporter": "python",
   "pygments_lexer": "ipython3",
   "version": "3.9.7"
  }
 },
 "nbformat": 4,
 "nbformat_minor": 5
}
