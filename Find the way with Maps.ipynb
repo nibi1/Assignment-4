{
 "cells": [
  {
   "cell_type": "markdown",
   "id": "2ac14f55",
   "metadata": {},
   "source": [
    "##### Write a Python program to triple all numbers of a given list of integers. Use Python map.\n",
    "\n",
    "\n",
    "\n",
    "sample list: [1, 2, 3, 4, 5, 6, 7]\n",
    "\n",
    "\n",
    "\n",
    "Triple of list numbers:\n",
    "\n",
    "[3, 6, 9, 12, 15, 18, 21]"
   ]
  },
  {
   "cell_type": "code",
   "execution_count": 8,
   "id": "d627226b",
   "metadata": {},
   "outputs": [
    {
     "name": "stdout",
     "output_type": "stream",
     "text": [
      "enter no of elements: 5\n",
      "enter the value: 1\n",
      "enter the value: 4\n",
      "enter the value: 9\n",
      "enter the value: 45\n",
      "enter the value: 90\n",
      "[3, 12, 27, 135, 270]\n"
     ]
    }
   ],
   "source": [
    "n = int(input(\"enter no of elements: \"))\n",
    "list1 = [int(input(\"enter the value: \")) for i in range(n)]\n",
    "multi_list = list(map(lambda a: a*3, list1))\n",
    "print(multi_list)"
   ]
  },
  {
   "cell_type": "code",
   "execution_count": null,
   "id": "eb7a4a6c",
   "metadata": {},
   "outputs": [],
   "source": []
  }
 ],
 "metadata": {
  "kernelspec": {
   "display_name": "Python 3 (ipykernel)",
   "language": "python",
   "name": "python3"
  },
  "language_info": {
   "codemirror_mode": {
    "name": "ipython",
    "version": 3
   },
   "file_extension": ".py",
   "mimetype": "text/x-python",
   "name": "python",
   "nbconvert_exporter": "python",
   "pygments_lexer": "ipython3",
   "version": "3.9.7"
  }
 },
 "nbformat": 4,
 "nbformat_minor": 5
}
